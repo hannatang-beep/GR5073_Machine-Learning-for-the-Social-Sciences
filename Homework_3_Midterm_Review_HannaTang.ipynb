{
  "nbformat": 4,
  "nbformat_minor": 0,
  "metadata": {
    "colab": {
      "provenance": []
    },
    "kernelspec": {
      "name": "python3",
      "display_name": "Python 3"
    },
    "language_info": {
      "name": "python"
    }
  },
  "cells": [
    {
      "cell_type": "code",
      "execution_count": 30,
      "metadata": {
        "id": "oCtzNXeVvb5r"
      },
      "outputs": [],
      "source": []
    },
    {
      "cell_type": "markdown",
      "source": [
        "#Homework 3: Midterm Review"
      ],
      "metadata": {
        "id": "wXqlthAXviZm"
      }
    },
    {
      "cell_type": "markdown",
      "source": [],
      "metadata": {
        "id": "f2ZM6jLfwiuw"
      }
    },
    {
      "cell_type": "markdown",
      "source": [
        "##Part A:"
      ],
      "metadata": {
        "id": "4QV3xjEAvnbt"
      }
    },
    {
      "cell_type": "markdown",
      "source": [
        "###1.Describe the importance of training and test data.  Why do we separate data into these subsets?\n",
        "\n",
        "Ans: Training data is used to teach the model patterns and relationships; test data is to evaluate how well the model generalizes to new, unseen data\n",
        "We separate data because: Using the same data for training and testing would give an overly optimistic view of model performance, test data helps detect overfitting."
      ],
      "metadata": {
        "id": "fhbsxmMsvq4O"
      }
    },
    {
      "cell_type": "markdown",
      "source": [
        "###2.What is k-fold cross validation and what do we use it for?\n",
        "\n",
        "Ans: K-fold cross validation is a method where data is split into k equal-sized folds. The procedure has a single parameter called k that refers to the number of groups that a given data sample is to be split into. One fold is held out as test data, model trains on remaining k-1 folds, process repeats k times, with each fold serving as validation once and results are averaged across all k iterations."
      ],
      "metadata": {
        "id": "4UkOsTjbvz2v"
      }
    },
    {
      "cell_type": "markdown",
      "source": [
        "###3.How is k-fold cross validation different from stratified k-fold cross validation?\n",
        "Ans: Stratified k-fold maintains the same proportion of samples for each class in every fold while k-fold cross validation splits data randomly without considering class distribution."
      ],
      "metadata": {
        "id": "a8WptyMPv2rP"
      }
    },
    {
      "cell_type": "markdown",
      "source": [
        "###4.Name the 4 types of supervised learning models that we have learned thus far that are used to predict categorical dependent variables like whether an email is labeled “spam” or “not spam.”\n",
        "Ans: Logistic Regression, Decision Trees, Random Forests, K-Nearest Neighbors"
      ],
      "metadata": {
        "id": "u757bYP1v6ke"
      }
    },
    {
      "cell_type": "markdown",
      "source": [
        "###5.Name the 3 types of supervised learning models that we have learned thus far that are used to predict continuous dependent variables like test scores.\n",
        "Ans: Linear Regression, Decision Trees, Random Forests"
      ],
      "metadata": {
        "id": "xXBZehDHv9vQ"
      }
    },
    {
      "cell_type": "markdown",
      "source": [
        "##Part B"
      ],
      "metadata": {
        "id": "YngB-KHFzTvZ"
      }
    },
    {
      "cell_type": "code",
      "source": [
        "import pandas as pd\n",
        "import numpy as np\n",
        "import matplotlib.pyplot as plt\n",
        "import seaborn as sns"
      ],
      "metadata": {
        "id": "LeYljr0Oz4u9"
      },
      "execution_count": 31,
      "outputs": []
    },
    {
      "cell_type": "markdown",
      "source": [
        "###1.Import the spam dataset and print the first six rows.  "
      ],
      "metadata": {
        "id": "8rdPIiE9zVY6"
      }
    },
    {
      "cell_type": "code",
      "source": [
        "df = pd.read_csv('/content/spam_dataset.csv')\n",
        "\n",
        "print(df.head(6))\n",
        "\n",
        "#check column#, row#\n",
        "df.shape"
      ],
      "metadata": {
        "id": "TYOuOnswz7JR",
        "colab": {
          "base_uri": "https://localhost:8080/"
        },
        "outputId": "1577c3a8-d84b-4748-cbaf-6d7875808fcc"
      },
      "execution_count": 32,
      "outputs": [
        {
          "output_type": "stream",
          "name": "stdout",
          "text": [
            "   word_freq_make:  word_freq_address:  word_freq_all:  word_freq_3d:  \\\n",
            "0             0.00                0.64            0.64            0.0   \n",
            "1             0.21                0.28            0.50            0.0   \n",
            "2             0.06                0.00            0.71            0.0   \n",
            "3             0.00                0.00            0.00            0.0   \n",
            "4             0.00                0.00            0.00            0.0   \n",
            "5             0.00                0.00            0.00            0.0   \n",
            "\n",
            "   word_freq_our:  word_freq_over:  word_freq_remove:  word_freq_internet:  \\\n",
            "0            0.32             0.00               0.00                 0.00   \n",
            "1            0.14             0.28               0.21                 0.07   \n",
            "2            1.23             0.19               0.19                 0.12   \n",
            "3            0.63             0.00               0.31                 0.63   \n",
            "4            0.63             0.00               0.31                 0.63   \n",
            "5            1.85             0.00               0.00                 1.85   \n",
            "\n",
            "   word_freq_order:  word_freq_mail:  ...  char_freq_;:  char_freq_(:  \\\n",
            "0              0.00             0.00  ...          0.00         0.000   \n",
            "1              0.00             0.94  ...          0.00         0.132   \n",
            "2              0.64             0.25  ...          0.01         0.143   \n",
            "3              0.31             0.63  ...          0.00         0.137   \n",
            "4              0.31             0.63  ...          0.00         0.135   \n",
            "5              0.00             0.00  ...          0.00         0.223   \n",
            "\n",
            "   char_freq_[:  char_freq_!:  char_freq_$:  char_freq_#:  \\\n",
            "0           0.0         0.778         0.000         0.000   \n",
            "1           0.0         0.372         0.180         0.048   \n",
            "2           0.0         0.276         0.184         0.010   \n",
            "3           0.0         0.137         0.000         0.000   \n",
            "4           0.0         0.135         0.000         0.000   \n",
            "5           0.0         0.000         0.000         0.000   \n",
            "\n",
            "   capital_run_length_average:  capital_run_length_longest:  \\\n",
            "0                        3.756                           61   \n",
            "1                        5.114                          101   \n",
            "2                        9.821                          485   \n",
            "3                        3.537                           40   \n",
            "4                        3.537                           40   \n",
            "5                        3.000                           15   \n",
            "\n",
            "   capital_run_length_total:  spam  \n",
            "0                        278     1  \n",
            "1                       1028     1  \n",
            "2                       2259     1  \n",
            "3                        191     1  \n",
            "4                        191     1  \n",
            "5                         54     1  \n",
            "\n",
            "[6 rows x 58 columns]\n"
          ]
        },
        {
          "output_type": "execute_result",
          "data": {
            "text/plain": [
              "(4601, 58)"
            ]
          },
          "metadata": {},
          "execution_count": 32
        }
      ]
    },
    {
      "cell_type": "markdown",
      "source": [],
      "metadata": {
        "id": "nQ2EsRziY42N"
      }
    },
    {
      "cell_type": "markdown",
      "source": [
        "###2.Read through the documentation of the original dataset here: http://archive.ics.uci.edu/ml/machine-learning-databases/spambase/spambase.names  The dependent variable is \"spam\" where one indicates that an email is spam and zero otherwise.  Which three variables in the dataset do you think will be important predictors in a model of spam?  Why?"
      ],
      "metadata": {
        "id": "hIe8ll0m1ofT"
      }
    },
    {
      "cell_type": "markdown",
      "source": [
        "I might chose following 3:\n",
        "\n",
        "---\n",
        "1.\n",
        "\"word_freq_money\"\n",
        "Reason:\n",
        "Spam often involves financial temptations, such as promises of quick riches, bonuses, and prize notifications. Emails with a high frequency of money-related vocabulary are more likely to be spam.\n",
        "\n",
        "---\n",
        "2.\n",
        "\"char_freq_!\"\n",
        "Reason:\n",
        "Spam commonly uses exclamation marks to grab attention. The use of multiple exclamation marks in succession is a typical characteristic of spam. Normal business emails rarely use excessive exclamation marks.\n",
        "\n",
        "---\n",
        "3.\n",
        "\"capital_run_length_average\" (Average Length of Consecutive Capital Letters)\n",
        "Reason:\n",
        "Spam frequently employs capital letters to emphasize content, such as \"FREE,\" \"URGENT,\" \"WINNER,\" etc. Normal emails rarely use long strings of capital letters.\n",
        "\n"
      ],
      "metadata": {
        "id": "I7YAQdLDFOfi"
      }
    },
    {
      "cell_type": "markdown",
      "source": [
        "###3. Visualize the univariate distribution of each of the variables in the previous question.  \n"
      ],
      "metadata": {
        "id": "8PTMiEWm1wmy"
      }
    },
    {
      "cell_type": "code",
      "source": [
        "\n",
        "plt.style.use('seaborn')\n",
        "sns.set_palette(\"husl\")\n",
        "\n",
        "fig, axes = plt.subplots(3, 2, figsize=(15, 12))\n",
        "fig.suptitle('Distribution of Spam Email Features', size=16, y=1.02)\n",
        "\n",
        "# 1. word_freq_money\n",
        "sns.histplot(data=df, x='word_freq_money:', ax=axes[0,0])\n",
        "axes[0,0].set_title('Distribution of Money Word Frequency')\n",
        "axes[0,0].set_xlabel('Frequency')\n",
        "\n",
        "sns.boxplot(data=df, x='word_freq_money:', ax=axes[0,1])\n",
        "axes[0,1].set_title('Boxplot of Money Word Frequency')\n",
        "axes[0,1].set_xlabel('Frequency')\n",
        "\n",
        "# 2. char_freq_!的分布\n",
        "sns.histplot(data=df, x='char_freq_!:', ax=axes[1,0])\n",
        "axes[1,0].set_title('Distribution of Exclamation Mark Frequency')\n",
        "axes[1,0].set_xlabel('Frequency')\n",
        "\n",
        "sns.boxplot(data=df, x='char_freq_!:', ax=axes[1,1])\n",
        "axes[1,1].set_title('Boxplot of Exclamation Mark Frequency')\n",
        "axes[1,1].set_xlabel('Frequency')\n",
        "\n",
        "# 3. capital_run_length_average\n",
        "sns.histplot(data=df, x='capital_run_length_average:', ax=axes[2,0])\n",
        "axes[2,0].set_title('Distribution of Average Capital Run Length')\n",
        "axes[2,0].set_xlabel('Length')\n",
        "\n",
        "\n",
        "sns.boxplot(data=df, x='capital_run_length_average:', ax=axes[2,1])\n",
        "axes[2,1].set_title('Boxplot of Average Capital Run Length')\n",
        "axes[2,1].set_xlabel('Length')\n",
        "\n",
        "# layout\n",
        "plt.tight_layout()\n",
        "plt.show()"
      ],
      "metadata": {
        "colab": {
          "base_uri": "https://localhost:8080/",
          "height": 1000
        },
        "id": "0tt0EK1hGMTC",
        "outputId": "319df36f-1b40-42d9-d980-9299c03db172"
      },
      "execution_count": 33,
      "outputs": [
        {
          "output_type": "stream",
          "name": "stderr",
          "text": [
            "<ipython-input-33-f307310aa703>:1: MatplotlibDeprecationWarning: The seaborn styles shipped by Matplotlib are deprecated since 3.6, as they no longer correspond to the styles shipped by seaborn. However, they will remain available as 'seaborn-v0_8-<style>'. Alternatively, directly use the seaborn API instead.\n",
            "  plt.style.use('seaborn')\n"
          ]
        },
        {
          "output_type": "display_data",
          "data": {
            "text/plain": [
              "<Figure size 1500x1200 with 6 Axes>"
            ],
            "image/png": "[encoded data removed]"
          },
          "metadata": {}
        }
      ]
    },
    {
      "cell_type": "markdown",
      "source": [
        "###4.Choose one model from Part A Question 4. Split the data into training and test subsets.  Build a model with the three variables in the dataset that you think will be good predictors of \"spam\". Run the model and evaluate prediction error using k-fold cross-validation. Describe why you chose any particular parameters for your model (e.g., if you used KNN how did you decide to choose a specific value for k)."
      ],
      "metadata": {
        "id": "fcOjRk21J87Z"
      }
    },
    {
      "cell_type": "code",
      "source": [
        "from sklearn.model_selection import train_test_split, cross_val_score, KFold\n",
        "from sklearn.linear_model import LogisticRegression\n",
        "from sklearn.preprocessing import StandardScaler\n",
        "from sklearn.metrics import accuracy_score, classification_report, confusion_matrix\n",
        "import seaborn as sns\n",
        "import matplotlib.pyplot as plt\n",
        "\n",
        "\n",
        "# three variables\n",
        "X = df[['word_freq_money:', 'char_freq_!:', 'capital_run_length_average:']]\n",
        "y = df['spam']\n",
        "\n",
        "# split to train and test\n",
        "X_train, X_test, y_train, y_test = train_test_split( X, y, test_size=0.2, random_state=42)\n",
        "\n",
        "# Scale the data\n",
        "scaler = StandardScaler()\n",
        "X_train_scaled = scaler.fit_transform(X_train)\n",
        "X_test_scaled = scaler.transform(X_test)\n",
        "\n",
        "#K-fold\n",
        "kf = KFold(n_splits=5, shuffle=True, random_state=42)\n",
        "\n",
        "# Define models\n",
        "model = LogisticRegression(random_state=42, max_iter=1000, C=1.0)\n",
        "\n",
        "# Cross-validation\n",
        "cv_scores = cross_val_score(model, X_train_scaled, y_train, cv=kf)\n",
        "\n",
        "# fit the model\n",
        "model.fit(X_train_scaled, y_train)\n",
        "\n",
        "# predict on test\n",
        "y_pred = model.predict(X_test_scaled)\n",
        "\n",
        "# Result\n",
        "print(\"cross validation scores:\", cv_scores)\n",
        "print(\"avg cross validation score: {:.3f} (+/- {:.3f})\".format(\n",
        "    cv_scores.mean(), cv_scores.std() * 2))\n"
      ],
      "metadata": {
        "colab": {
          "base_uri": "https://localhost:8080/"
        },
        "id": "MsCowFwCKhPJ",
        "outputId": "d0ffce18-fd3c-49f8-d3d5-d487db6ddb5b"
      },
      "execution_count": 34,
      "outputs": [
        {
          "output_type": "stream",
          "name": "stdout",
          "text": [
            "cross validation scores: [0.80434783 0.8138587  0.76630435 0.79619565 0.79891304]\n",
            "avg cross validation score: 0.796 (+/- 0.032)\n"
          ]
        }
      ]
    },
    {
      "cell_type": "markdown",
      "source": [
        "Logistic regression is suitable for binary classification problems, therefore I choose it."
      ],
      "metadata": {
        "id": "9A-TwVT1VrNf"
      }
    },
    {
      "cell_type": "markdown",
      "source": [
        "\n",
        "Particular parameters:\n",
        "\n",
        "---\n",
        "n_splits=5:\n",
        "Choose 5-fold cross-validation.\n",
        "In each iteration, 4 parts are used for training and 1 part for validation.\n",
        "This is a commonly used number of folds, balancing computational cost and evaluation reliability.\n",
        "\n",
        "shuffle=True:\n",
        "Randomly shuffle the data before splitting. This helps avoid biases caused by the order of the data. It improves the reliability of the validation.\n",
        "\n",
        "Using StandardScaler:\n",
        "This transforms the features to the same scale. This is particularly important because our features have significant differences in scale.\n",
        "\n",
        "test_size=0.2:\n",
        "This is the standard split ratio of 80% for training and 20% for testing.\n",
        "It ensures there is enough data for training while retaining a sufficient amount of test data.\n"
      ],
      "metadata": {
        "id": "nTa0qEmyRHq7"
      }
    },
    {
      "cell_type": "markdown",
      "source": [
        "###5. Repeat the previous question but with a different model from Part A Question 4. - Decision Trees"
      ],
      "metadata": {
        "id": "rtNevdVVT214"
      }
    },
    {
      "cell_type": "code",
      "source": [
        "from sklearn.tree import DecisionTreeClassifier\n",
        "from sklearn.model_selection import StratifiedKFold\n",
        "\n",
        "#define model\n",
        "dt = DecisionTreeClassifier(max_depth=5, random_state=42)\n",
        "\n",
        "# cross-validation\n",
        "skf = StratifiedKFold(n_splits=5, shuffle=True, random_state=42)\n",
        "cv_scores = cross_val_score(dt, X_train_scaled, y_train, cv=skf)\n",
        "\n",
        "print(\"Decision Tree CV scores:\", cv_scores)\n",
        "print(\"Mean CV score:\", cv_scores.mean())"
      ],
      "metadata": {
        "colab": {
          "base_uri": "https://localhost:8080/"
        },
        "id": "SImiaGFRT7Mv",
        "outputId": "010c05b3-54f4-4991-a431-6096d67256df"
      },
      "execution_count": 35,
      "outputs": [
        {
          "output_type": "stream",
          "name": "stdout",
          "text": [
            "Decision Tree CV scores: [0.85461957 0.83152174 0.85326087 0.84782609 0.84918478]\n",
            "Mean CV score: 0.8472826086956522\n"
          ]
        }
      ]
    },
    {
      "cell_type": "markdown",
      "source": [
        "Particular parameters:\n",
        "\n",
        "---\n",
        "max_depth=5: Limits thedepth of the tree to prevent overfitting.\n",
        "\n",
        "random_state=42: Ensures that the results are reproducible."
      ],
      "metadata": {
        "id": "KCE8XI38VPNU"
      }
    },
    {
      "cell_type": "markdown",
      "source": [
        "###6. Repeat the previous question but with a different model from Part A Question 4.- Random Forests"
      ],
      "metadata": {
        "id": "s_skdMJJUxep"
      }
    },
    {
      "cell_type": "code",
      "source": [
        "from sklearn.ensemble import RandomForestClassifier\n",
        "\n",
        "# define model\n",
        "rf = RandomForestClassifier(n_estimators=100, max_depth=5, random_state=42)\n",
        "\n",
        "# cross validation\n",
        "cv_scores = cross_val_score(rf, X_train_scaled, y_train, cv=skf)\n",
        "\n",
        "print(\"Random Forest CV scores:\", cv_scores)\n",
        "print(\"Mean CV score:\", cv_scores.mean())"
      ],
      "metadata": {
        "colab": {
          "base_uri": "https://localhost:8080/"
        },
        "id": "MQPvJjgoUyko",
        "outputId": "b73ea639-f384-4c8b-c5d7-6fd5aee87937"
      },
      "execution_count": 36,
      "outputs": [
        {
          "output_type": "stream",
          "name": "stdout",
          "text": [
            "Random Forest CV scores: [0.86141304 0.84918478 0.85733696 0.84782609 0.85326087]\n",
            "Mean CV score: 0.853804347826087\n"
          ]
        }
      ]
    },
    {
      "cell_type": "markdown",
      "source": [
        "Particular parameters:\n",
        "\n",
        "\n",
        "---\n",
        "\n",
        "\n",
        "n_estimators=100: Uses 100 trees.\n",
        "\n",
        "max_depth=5: Limits the depth of each tree.\n"
      ],
      "metadata": {
        "id": "2X6sEyxyV_-n"
      }
    },
    {
      "cell_type": "markdown",
      "source": [
        "###7. Repeat the previous question but with a different model from Part A Question 4. -KNN"
      ],
      "metadata": {
        "id": "k-IM2giKUzQp"
      }
    },
    {
      "cell_type": "code",
      "source": [
        "from sklearn.neighbors import KNeighborsClassifier\n",
        "\n",
        "# define model\n",
        "knn = KNeighborsClassifier(n_neighbors=5)\n",
        "\n",
        "# cross-validation\n",
        "cv_scores = cross_val_score(knn, X_train_scaled, y_train, cv=skf)\n",
        "\n",
        "print(\"KNN CV scores:\", cv_scores)\n",
        "print(\"Mean CV score:\", cv_scores.mean())\n"
      ],
      "metadata": {
        "colab": {
          "base_uri": "https://localhost:8080/"
        },
        "id": "crlVsrZWWNJy",
        "outputId": "b1b4fda7-d810-430f-aa69-c1e571fd2ae0"
      },
      "execution_count": 37,
      "outputs": [
        {
          "output_type": "stream",
          "name": "stdout",
          "text": [
            "KNN CV scores: [0.83559783 0.82472826 0.8451087  0.84103261 0.83288043]\n",
            "Mean CV score: 0.8358695652173914\n"
          ]
        }
      ]
    },
    {
      "cell_type": "markdown",
      "source": [
        "Particular parameters:\n",
        "\n",
        "---\n",
        "n_neighbors=5: Selects 5 nearest neighbors.\n",
        "why using 5? Moderate computational efficiency: Works well for small to medium-sized datasets.\n",
        "This is a commonly used starting value.\n"
      ],
      "metadata": {
        "id": "r0BvHZTQWVEi"
      }
    },
    {
      "cell_type": "markdown",
      "source": [
        "###8. Now rerun all 4 models with 3 additional variables that you think will help the prediction accuracy. Did this cause the performance to improve over your previous models?"
      ],
      "metadata": {
        "id": "XpxDEj36XJJ8"
      }
    },
    {
      "cell_type": "code",
      "source": [
        "df.columns.tolist()"
      ],
      "metadata": {
        "colab": {
          "base_uri": "https://localhost:8080/"
        },
        "id": "LvqGkumcZNin",
        "outputId": "e5b70748-0b8c-4f95-be65-48af8ffc425d"
      },
      "execution_count": 38,
      "outputs": [
        {
          "output_type": "execute_result",
          "data": {
            "text/plain": [
              "['word_freq_make:',\n",
              " 'word_freq_address:',\n",
              " 'word_freq_all:',\n",
              " 'word_freq_3d:',\n",
              " 'word_freq_our:',\n",
              " 'word_freq_over:',\n",
              " 'word_freq_remove:',\n",
              " 'word_freq_internet:',\n",
              " 'word_freq_order:',\n",
              " 'word_freq_mail:',\n",
              " 'word_freq_receive:',\n",
              " 'word_freq_will:',\n",
              " 'word_freq_people:',\n",
              " 'word_freq_report:',\n",
              " 'word_freq_addresses:',\n",
              " 'word_freq_free:',\n",
              " 'word_freq_business:',\n",
              " 'word_freq_email:',\n",
              " 'word_freq_you:',\n",
              " 'word_freq_credit:',\n",
              " 'word_freq_your:',\n",
              " 'word_freq_font:',\n",
              " 'word_freq_000:',\n",
              " 'word_freq_money:',\n",
              " 'word_freq_hp:',\n",
              " 'word_freq_hpl:',\n",
              " 'word_freq_george:',\n",
              " 'word_freq_650:',\n",
              " 'word_freq_lab:',\n",
              " 'word_freq_labs:',\n",
              " 'word_freq_telnet:',\n",
              " 'word_freq_857:',\n",
              " 'word_freq_data:',\n",
              " 'word_freq_415:',\n",
              " 'word_freq_85:',\n",
              " 'word_freq_technology:',\n",
              " 'word_freq_1999:',\n",
              " 'word_freq_parts:',\n",
              " 'word_freq_pm:',\n",
              " 'word_freq_direct:',\n",
              " 'word_freq_cs:',\n",
              " 'word_freq_meeting:',\n",
              " 'word_freq_original:',\n",
              " 'word_freq_project:',\n",
              " 'word_freq_re:',\n",
              " 'word_freq_edu:',\n",
              " 'word_freq_table:',\n",
              " 'word_freq_conference:',\n",
              " 'char_freq_;:',\n",
              " 'char_freq_(:',\n",
              " 'char_freq_[:',\n",
              " 'char_freq_!:',\n",
              " 'char_freq_$:',\n",
              " 'char_freq_#:',\n",
              " 'capital_run_length_average:',\n",
              " 'capital_run_length_longest:',\n",
              " 'capital_run_length_total:',\n",
              " 'spam']"
            ]
          },
          "metadata": {},
          "execution_count": 38
        }
      ]
    },
    {
      "cell_type": "code",
      "source": [
        "\n",
        "# three new variables\n",
        "X = df[['word_freq_free:', 'word_freq_credit:', 'char_freq_$:']]\n",
        "y = df['spam']\n",
        "\n",
        "#spilt data\n",
        "X_train, X_test, y_train, y_test = train_test_split(X, y, test_size=0.2, random_state=42)\n",
        "\n",
        "#scale the data\n",
        "scaler = StandardScaler()\n",
        "X_train_scaled = scaler.fit_transform(X_train)\n",
        "X_test_scaled = scaler.transform(X_test)\n",
        "\n",
        "# cross-validation\n",
        "skf = StratifiedKFold(n_splits=5, shuffle=True, random_state=42)\n",
        "\n",
        "# 1. logistic regression\n",
        "lr = LogisticRegression(random_state=42)\n",
        "lr_scores = cross_val_score(lr, X_train_scaled, y_train, cv=skf)\n",
        "print(\"Logistic Regression mean CV score:\", lr_scores.mean())\n",
        "\n",
        "# 2. decision tree\n",
        "dt = DecisionTreeClassifier(max_depth=5, random_state=42)\n",
        "dt_scores = cross_val_score(dt, X_train_scaled, y_train, cv=skf)\n",
        "print(\"Decision Tree mean CV score:\", dt_scores.mean())\n",
        "\n",
        "# 3. randomforest\n",
        "rf = RandomForestClassifier(n_estimators=100, max_depth=5, random_state=42)\n",
        "rf_scores = cross_val_score(rf, X_train_scaled, y_train, cv=skf)\n",
        "print(\"Random Forest mean CV score:\", rf_scores.mean())\n",
        "\n",
        "# 4. KNN\n",
        "knn = KNeighborsClassifier(n_neighbors=5)\n",
        "knn_scores = cross_val_score(knn, X_train_scaled, y_train, cv=skf)\n",
        "print(\"KNN mean CV score:\", knn_scores.mean())"
      ],
      "metadata": {
        "colab": {
          "base_uri": "https://localhost:8080/"
        },
        "id": "RAh9AYbYXMlU",
        "outputId": "86862248-0318-4f3a-d7a9-7af57396c856"
      },
      "execution_count": 39,
      "outputs": [
        {
          "output_type": "stream",
          "name": "stdout",
          "text": [
            "Logistic Regression mean CV score: 0.8236413043478261\n",
            "Decision Tree mean CV score: 0.8432065217391305\n",
            "Random Forest mean CV score: 0.847554347826087\n",
            "KNN mean CV score: 0.8478260869565217\n"
          ]
        }
      ]
    },
    {
      "cell_type": "markdown",
      "source": [
        "\n",
        "*   Logistic Regression: +0.029(significant improvement)\n",
        "*   Decision Tree: -0.004(No significant improvement)\n",
        "*   Random Forest: -0.006(No significant improvement)\n",
        "*   KNN: +0.012(Slight improvement:)"
      ],
      "metadata": {
        "id": "4sMrwoElat1c"
      }
    },
    {
      "cell_type": "markdown",
      "source": [
        "###9.What is a variable that isn't available in this dataset but you think could increase your final model's predictive power if you had it? Why do you think it would improve your model?"
      ],
      "metadata": {
        "id": "RJiGZ7wQdSTq"
      }
    },
    {
      "cell_type": "markdown",
      "source": [
        "I beleive there is a potential using \"Attachment Information\" to increase model's predictive power, since abnormally large attachments may indicate malware, and abnormally small executable files are often suspicious. Usually standard business doc. fall within a certain size range."
      ],
      "metadata": {
        "id": "dCjf3v6AdUNM"
      }
    }
  ]
}